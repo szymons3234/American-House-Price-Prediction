{
 "cells": [
  {
   "cell_type": "markdown",
   "id": "1cd75408-cad9-4874-91c6-31a76e2b9abf",
   "metadata": {},
   "source": [
    "# Data Science Regression Project: Predicting American Home Prices"
   ]
  },
  {
   "cell_type": "code",
   "execution_count": 1,
   "id": "d0402de7-90a4-4083-abb1-0a53cf220dcd",
   "metadata": {},
   "outputs": [],
   "source": [
    "import pandas as pd\n",
    "import numpy as np\n",
    "import matplotlib.pyplot as plt\n",
    "import matplotlib\n",
    "%matplotlib inline"
   ]
  },
  {
   "cell_type": "markdown",
   "id": "51ad9ec8-71b1-43d5-8633-02a9b0a91922",
   "metadata": {},
   "source": [
    "## Data Load"
   ]
  },
  {
   "cell_type": "code",
   "execution_count": 2,
   "id": "896d1115-8684-4b00-ae85-f6988d3cfbbd",
   "metadata": {},
   "outputs": [
    {
     "data": {
      "text/html": [
       "<div>\n",
       "<style scoped>\n",
       "    .dataframe tbody tr th:only-of-type {\n",
       "        vertical-align: middle;\n",
       "    }\n",
       "\n",
       "    .dataframe tbody tr th {\n",
       "        vertical-align: top;\n",
       "    }\n",
       "\n",
       "    .dataframe thead th {\n",
       "        text-align: right;\n",
       "    }\n",
       "</style>\n",
       "<table border=\"1\" class=\"dataframe\">\n",
       "  <thead>\n",
       "    <tr style=\"text-align: right;\">\n",
       "      <th></th>\n",
       "      <th>Zip Code</th>\n",
       "      <th>Price</th>\n",
       "      <th>Beds</th>\n",
       "      <th>Baths</th>\n",
       "      <th>Living Space</th>\n",
       "      <th>Address</th>\n",
       "      <th>City</th>\n",
       "      <th>State</th>\n",
       "      <th>Zip Code Population</th>\n",
       "      <th>Zip Code Density</th>\n",
       "      <th>County</th>\n",
       "      <th>Median Household Income</th>\n",
       "      <th>Latitude</th>\n",
       "      <th>Longitude</th>\n",
       "    </tr>\n",
       "  </thead>\n",
       "  <tbody>\n",
       "    <tr>\n",
       "      <th>0</th>\n",
       "      <td>10013</td>\n",
       "      <td>3999000.0</td>\n",
       "      <td>2</td>\n",
       "      <td>3</td>\n",
       "      <td>1967</td>\n",
       "      <td>74 GRAND ST APT 3</td>\n",
       "      <td>New York</td>\n",
       "      <td>New York</td>\n",
       "      <td>29563</td>\n",
       "      <td>20967.9</td>\n",
       "      <td>New York</td>\n",
       "      <td>370046.0</td>\n",
       "      <td>40.72001</td>\n",
       "      <td>-74.00472</td>\n",
       "    </tr>\n",
       "    <tr>\n",
       "      <th>1</th>\n",
       "      <td>10013</td>\n",
       "      <td>3999000.0</td>\n",
       "      <td>2</td>\n",
       "      <td>3</td>\n",
       "      <td>1967</td>\n",
       "      <td>74 GRAND ST APT 3</td>\n",
       "      <td>New York</td>\n",
       "      <td>New York</td>\n",
       "      <td>29563</td>\n",
       "      <td>20967.9</td>\n",
       "      <td>New York</td>\n",
       "      <td>370046.0</td>\n",
       "      <td>40.72001</td>\n",
       "      <td>-74.00472</td>\n",
       "    </tr>\n",
       "    <tr>\n",
       "      <th>2</th>\n",
       "      <td>10014</td>\n",
       "      <td>1650000.0</td>\n",
       "      <td>1</td>\n",
       "      <td>1</td>\n",
       "      <td>718</td>\n",
       "      <td>140 CHARLES ST APT 4D</td>\n",
       "      <td>New York</td>\n",
       "      <td>New York</td>\n",
       "      <td>29815</td>\n",
       "      <td>23740.9</td>\n",
       "      <td>New York</td>\n",
       "      <td>249880.0</td>\n",
       "      <td>40.73407</td>\n",
       "      <td>-74.00601</td>\n",
       "    </tr>\n",
       "    <tr>\n",
       "      <th>3</th>\n",
       "      <td>10014</td>\n",
       "      <td>760000.0</td>\n",
       "      <td>3</td>\n",
       "      <td>2</td>\n",
       "      <td>1538</td>\n",
       "      <td>38 JONES ST</td>\n",
       "      <td>New York</td>\n",
       "      <td>New York</td>\n",
       "      <td>29815</td>\n",
       "      <td>23740.9</td>\n",
       "      <td>New York</td>\n",
       "      <td>249880.0</td>\n",
       "      <td>40.73407</td>\n",
       "      <td>-74.00601</td>\n",
       "    </tr>\n",
       "    <tr>\n",
       "      <th>4</th>\n",
       "      <td>10014</td>\n",
       "      <td>1100000.0</td>\n",
       "      <td>1</td>\n",
       "      <td>1</td>\n",
       "      <td>600</td>\n",
       "      <td>81 BEDFORD ST APT 3F</td>\n",
       "      <td>New York</td>\n",
       "      <td>New York</td>\n",
       "      <td>29815</td>\n",
       "      <td>23740.9</td>\n",
       "      <td>New York</td>\n",
       "      <td>249880.0</td>\n",
       "      <td>40.73407</td>\n",
       "      <td>-74.00601</td>\n",
       "    </tr>\n",
       "  </tbody>\n",
       "</table>\n",
       "</div>"
      ],
      "text/plain": [
       "   Zip Code      Price  Beds  Baths  Living Space                Address  \\\n",
       "0     10013  3999000.0     2      3          1967      74 GRAND ST APT 3   \n",
       "1     10013  3999000.0     2      3          1967      74 GRAND ST APT 3   \n",
       "2     10014  1650000.0     1      1           718  140 CHARLES ST APT 4D   \n",
       "3     10014   760000.0     3      2          1538            38 JONES ST   \n",
       "4     10014  1100000.0     1      1           600   81 BEDFORD ST APT 3F   \n",
       "\n",
       "       City     State  Zip Code Population  Zip Code Density    County  \\\n",
       "0  New York  New York                29563           20967.9  New York   \n",
       "1  New York  New York                29563           20967.9  New York   \n",
       "2  New York  New York                29815           23740.9  New York   \n",
       "3  New York  New York                29815           23740.9  New York   \n",
       "4  New York  New York                29815           23740.9  New York   \n",
       "\n",
       "   Median Household Income  Latitude  Longitude  \n",
       "0                 370046.0  40.72001  -74.00472  \n",
       "1                 370046.0  40.72001  -74.00472  \n",
       "2                 249880.0  40.73407  -74.00601  \n",
       "3                 249880.0  40.73407  -74.00601  \n",
       "4                 249880.0  40.73407  -74.00601  "
      ]
     },
     "execution_count": 2,
     "metadata": {},
     "output_type": "execute_result"
    }
   ],
   "source": [
    "df1 = pd.read_csv('American_Housing_Data.csv')\n",
    "df1.head()"
   ]
  },
  {
   "cell_type": "code",
   "execution_count": 3,
   "id": "1abb756e-4a69-43c4-a459-37c553485b2e",
   "metadata": {},
   "outputs": [
    {
     "name": "stdout",
     "output_type": "stream",
     "text": [
      "<class 'pandas.core.frame.DataFrame'>\n",
      "RangeIndex: 39981 entries, 0 to 39980\n",
      "Data columns (total 14 columns):\n",
      " #   Column                   Non-Null Count  Dtype  \n",
      "---  ------                   --------------  -----  \n",
      " 0   Zip Code                 39981 non-null  int64  \n",
      " 1   Price                    39981 non-null  float64\n",
      " 2   Beds                     39981 non-null  int64  \n",
      " 3   Baths                    39981 non-null  int64  \n",
      " 4   Living Space             39981 non-null  int64  \n",
      " 5   Address                  39981 non-null  object \n",
      " 6   City                     39981 non-null  object \n",
      " 7   State                    39981 non-null  object \n",
      " 8   Zip Code Population      39981 non-null  int64  \n",
      " 9   Zip Code Density         39981 non-null  float64\n",
      " 10  County                   39981 non-null  object \n",
      " 11  Median Household Income  39979 non-null  float64\n",
      " 12  Latitude                 39981 non-null  float64\n",
      " 13  Longitude                39981 non-null  float64\n",
      "dtypes: float64(5), int64(5), object(4)\n",
      "memory usage: 4.3+ MB\n"
     ]
    }
   ],
   "source": [
    "df1.info()"
   ]
  },
  {
   "cell_type": "markdown",
   "id": "518a410b-e33c-4b95-8bf5-653df91b09d3",
   "metadata": {},
   "source": [
    "**Drop features that are not required to build our model**"
   ]
  },
  {
   "cell_type": "code",
   "execution_count": 4,
   "id": "2f6e6218-76b4-41c5-baa2-600903d1b96b",
   "metadata": {},
   "outputs": [
    {
     "data": {
      "text/html": [
       "<div>\n",
       "<style scoped>\n",
       "    .dataframe tbody tr th:only-of-type {\n",
       "        vertical-align: middle;\n",
       "    }\n",
       "\n",
       "    .dataframe tbody tr th {\n",
       "        vertical-align: top;\n",
       "    }\n",
       "\n",
       "    .dataframe thead th {\n",
       "        text-align: right;\n",
       "    }\n",
       "</style>\n",
       "<table border=\"1\" class=\"dataframe\">\n",
       "  <thead>\n",
       "    <tr style=\"text-align: right;\">\n",
       "      <th></th>\n",
       "      <th>Price</th>\n",
       "      <th>Beds</th>\n",
       "      <th>Baths</th>\n",
       "      <th>Living Space</th>\n",
       "      <th>City</th>\n",
       "    </tr>\n",
       "  </thead>\n",
       "  <tbody>\n",
       "    <tr>\n",
       "      <th>0</th>\n",
       "      <td>3999000.0</td>\n",
       "      <td>2</td>\n",
       "      <td>3</td>\n",
       "      <td>1967</td>\n",
       "      <td>New York</td>\n",
       "    </tr>\n",
       "    <tr>\n",
       "      <th>1</th>\n",
       "      <td>3999000.0</td>\n",
       "      <td>2</td>\n",
       "      <td>3</td>\n",
       "      <td>1967</td>\n",
       "      <td>New York</td>\n",
       "    </tr>\n",
       "    <tr>\n",
       "      <th>2</th>\n",
       "      <td>1650000.0</td>\n",
       "      <td>1</td>\n",
       "      <td>1</td>\n",
       "      <td>718</td>\n",
       "      <td>New York</td>\n",
       "    </tr>\n",
       "    <tr>\n",
       "      <th>3</th>\n",
       "      <td>760000.0</td>\n",
       "      <td>3</td>\n",
       "      <td>2</td>\n",
       "      <td>1538</td>\n",
       "      <td>New York</td>\n",
       "    </tr>\n",
       "    <tr>\n",
       "      <th>4</th>\n",
       "      <td>1100000.0</td>\n",
       "      <td>1</td>\n",
       "      <td>1</td>\n",
       "      <td>600</td>\n",
       "      <td>New York</td>\n",
       "    </tr>\n",
       "  </tbody>\n",
       "</table>\n",
       "</div>"
      ],
      "text/plain": [
       "       Price  Beds  Baths  Living Space      City\n",
       "0  3999000.0     2      3          1967  New York\n",
       "1  3999000.0     2      3          1967  New York\n",
       "2  1650000.0     1      1           718  New York\n",
       "3   760000.0     3      2          1538  New York\n",
       "4  1100000.0     1      1           600  New York"
      ]
     },
     "execution_count": 4,
     "metadata": {},
     "output_type": "execute_result"
    }
   ],
   "source": [
    "df2 = df1.drop(['Zip Code','Address','State','Zip Code Population','Zip Code Density','County','Median Household Income','Latitude','Longitude'],axis=1)\n",
    "df2.head()"
   ]
  },
  {
   "cell_type": "markdown",
   "id": "113bed5e-c8f6-41be-9d7b-aac8bbfb0be7",
   "metadata": {},
   "source": [
    "## Data Cleaning"
   ]
  },
  {
   "cell_type": "code",
   "execution_count": 5,
   "id": "eeb9accf-3e00-48e1-aa2c-7655b8cca25f",
   "metadata": {},
   "outputs": [
    {
     "data": {
      "text/plain": [
       "Price           0\n",
       "Beds            0\n",
       "Baths           0\n",
       "Living Space    0\n",
       "City            0\n",
       "dtype: int64"
      ]
     },
     "execution_count": 5,
     "metadata": {},
     "output_type": "execute_result"
    }
   ],
   "source": [
    "df2.isnull().sum()"
   ]
  },
  {
   "cell_type": "code",
   "execution_count": 6,
   "id": "639d7d47-fd8a-4b70-84bf-f7e1b54c3dd4",
   "metadata": {},
   "outputs": [
    {
     "data": {
      "text/html": [
       "<div>\n",
       "<style scoped>\n",
       "    .dataframe tbody tr th:only-of-type {\n",
       "        vertical-align: middle;\n",
       "    }\n",
       "\n",
       "    .dataframe tbody tr th {\n",
       "        vertical-align: top;\n",
       "    }\n",
       "\n",
       "    .dataframe thead th {\n",
       "        text-align: right;\n",
       "    }\n",
       "</style>\n",
       "<table border=\"1\" class=\"dataframe\">\n",
       "  <thead>\n",
       "    <tr style=\"text-align: right;\">\n",
       "      <th></th>\n",
       "      <th>Price</th>\n",
       "      <th>Beds</th>\n",
       "      <th>Baths</th>\n",
       "      <th>Living Space</th>\n",
       "    </tr>\n",
       "  </thead>\n",
       "  <tbody>\n",
       "    <tr>\n",
       "      <th>count</th>\n",
       "      <td>3.998100e+04</td>\n",
       "      <td>39981.000000</td>\n",
       "      <td>39981.000000</td>\n",
       "      <td>39981.000000</td>\n",
       "    </tr>\n",
       "    <tr>\n",
       "      <th>mean</th>\n",
       "      <td>6.227771e+05</td>\n",
       "      <td>3.171682</td>\n",
       "      <td>2.466572</td>\n",
       "      <td>1901.522723</td>\n",
       "    </tr>\n",
       "    <tr>\n",
       "      <th>std</th>\n",
       "      <td>9.469793e+05</td>\n",
       "      <td>1.308796</td>\n",
       "      <td>1.323042</td>\n",
       "      <td>1211.307257</td>\n",
       "    </tr>\n",
       "    <tr>\n",
       "      <th>min</th>\n",
       "      <td>1.800000e+03</td>\n",
       "      <td>1.000000</td>\n",
       "      <td>1.000000</td>\n",
       "      <td>2.000000</td>\n",
       "    </tr>\n",
       "    <tr>\n",
       "      <th>25%</th>\n",
       "      <td>2.650000e+05</td>\n",
       "      <td>3.000000</td>\n",
       "      <td>2.000000</td>\n",
       "      <td>1200.000000</td>\n",
       "    </tr>\n",
       "    <tr>\n",
       "      <th>50%</th>\n",
       "      <td>3.999000e+05</td>\n",
       "      <td>3.000000</td>\n",
       "      <td>2.000000</td>\n",
       "      <td>1639.000000</td>\n",
       "    </tr>\n",
       "    <tr>\n",
       "      <th>75%</th>\n",
       "      <td>6.749900e+05</td>\n",
       "      <td>4.000000</td>\n",
       "      <td>3.000000</td>\n",
       "      <td>2265.000000</td>\n",
       "    </tr>\n",
       "    <tr>\n",
       "      <th>max</th>\n",
       "      <td>3.800000e+07</td>\n",
       "      <td>54.000000</td>\n",
       "      <td>66.000000</td>\n",
       "      <td>74340.000000</td>\n",
       "    </tr>\n",
       "  </tbody>\n",
       "</table>\n",
       "</div>"
      ],
      "text/plain": [
       "              Price          Beds         Baths  Living Space\n",
       "count  3.998100e+04  39981.000000  39981.000000  39981.000000\n",
       "mean   6.227771e+05      3.171682      2.466572   1901.522723\n",
       "std    9.469793e+05      1.308796      1.323042   1211.307257\n",
       "min    1.800000e+03      1.000000      1.000000      2.000000\n",
       "25%    2.650000e+05      3.000000      2.000000   1200.000000\n",
       "50%    3.999000e+05      3.000000      2.000000   1639.000000\n",
       "75%    6.749900e+05      4.000000      3.000000   2265.000000\n",
       "max    3.800000e+07     54.000000     66.000000  74340.000000"
      ]
     },
     "execution_count": 6,
     "metadata": {},
     "output_type": "execute_result"
    }
   ],
   "source": [
    "df2.describe()"
   ]
  },
  {
   "cell_type": "code",
   "execution_count": 7,
   "id": "19553773-aa64-4bb6-b98b-a84973d90168",
   "metadata": {},
   "outputs": [
    {
     "data": {
      "text/plain": [
       "Price           float64\n",
       "Beds              int64\n",
       "Baths             int64\n",
       "Living Space      int64\n",
       "City             object\n",
       "dtype: object"
      ]
     },
     "execution_count": 7,
     "metadata": {},
     "output_type": "execute_result"
    }
   ],
   "source": [
    "df2.dtypes"
   ]
  },
  {
   "cell_type": "markdown",
   "id": "1265c871-72af-4bab-a39c-656f5ba3a148",
   "metadata": {},
   "source": [
    "## Feature Engineering"
   ]
  },
  {
   "cell_type": "markdown",
   "id": "47edfaa7-59d7-499d-bb10-c09357416f69",
   "metadata": {},
   "source": [
    "**Add new feature called price per living space**"
   ]
  },
  {
   "cell_type": "code",
   "execution_count": 8,
   "id": "49212e7c-848f-439d-968b-d7e047679a23",
   "metadata": {
    "scrolled": true
   },
   "outputs": [
    {
     "data": {
      "text/html": [
       "<div>\n",
       "<style scoped>\n",
       "    .dataframe tbody tr th:only-of-type {\n",
       "        vertical-align: middle;\n",
       "    }\n",
       "\n",
       "    .dataframe tbody tr th {\n",
       "        vertical-align: top;\n",
       "    }\n",
       "\n",
       "    .dataframe thead th {\n",
       "        text-align: right;\n",
       "    }\n",
       "</style>\n",
       "<table border=\"1\" class=\"dataframe\">\n",
       "  <thead>\n",
       "    <tr style=\"text-align: right;\">\n",
       "      <th></th>\n",
       "      <th>Price</th>\n",
       "      <th>Beds</th>\n",
       "      <th>Baths</th>\n",
       "      <th>Living Space</th>\n",
       "      <th>City</th>\n",
       "      <th>price_per_living_space</th>\n",
       "    </tr>\n",
       "  </thead>\n",
       "  <tbody>\n",
       "    <tr>\n",
       "      <th>0</th>\n",
       "      <td>3999000.0</td>\n",
       "      <td>2</td>\n",
       "      <td>3</td>\n",
       "      <td>1967</td>\n",
       "      <td>New York</td>\n",
       "      <td>2033.05</td>\n",
       "    </tr>\n",
       "    <tr>\n",
       "      <th>1</th>\n",
       "      <td>3999000.0</td>\n",
       "      <td>2</td>\n",
       "      <td>3</td>\n",
       "      <td>1967</td>\n",
       "      <td>New York</td>\n",
       "      <td>2033.05</td>\n",
       "    </tr>\n",
       "    <tr>\n",
       "      <th>2</th>\n",
       "      <td>1650000.0</td>\n",
       "      <td>1</td>\n",
       "      <td>1</td>\n",
       "      <td>718</td>\n",
       "      <td>New York</td>\n",
       "      <td>2298.05</td>\n",
       "    </tr>\n",
       "    <tr>\n",
       "      <th>3</th>\n",
       "      <td>760000.0</td>\n",
       "      <td>3</td>\n",
       "      <td>2</td>\n",
       "      <td>1538</td>\n",
       "      <td>New York</td>\n",
       "      <td>494.15</td>\n",
       "    </tr>\n",
       "    <tr>\n",
       "      <th>4</th>\n",
       "      <td>1100000.0</td>\n",
       "      <td>1</td>\n",
       "      <td>1</td>\n",
       "      <td>600</td>\n",
       "      <td>New York</td>\n",
       "      <td>1833.33</td>\n",
       "    </tr>\n",
       "  </tbody>\n",
       "</table>\n",
       "</div>"
      ],
      "text/plain": [
       "       Price  Beds  Baths  Living Space      City  price_per_living_space\n",
       "0  3999000.0     2      3          1967  New York                 2033.05\n",
       "1  3999000.0     2      3          1967  New York                 2033.05\n",
       "2  1650000.0     1      1           718  New York                 2298.05\n",
       "3   760000.0     3      2          1538  New York                  494.15\n",
       "4  1100000.0     1      1           600  New York                 1833.33"
      ]
     },
     "execution_count": 8,
     "metadata": {},
     "output_type": "execute_result"
    }
   ],
   "source": [
    "df3 = df2.copy()\n",
    "df3['price_per_living_space']=round(df3['Price']/df3['Living Space'],2)\n",
    "df3.head()"
   ]
  },
  {
   "cell_type": "code",
   "execution_count": 9,
   "id": "bb10eb66-9e5e-4a93-8b40-7354f5e3efe4",
   "metadata": {
    "scrolled": true
   },
   "outputs": [
    {
     "data": {
      "text/plain": [
       "array(['New York', 'Staten Island', 'Bronx', 'Floral Park', 'Glen Oaks',\n",
       "       'Astoria', 'Sunnyside', 'Long Island City', 'Brooklyn', 'Flushing',\n",
       "       'College Point', 'Whitestone', 'Bayside', 'Little Neck',\n",
       "       'Oakland Gardens', 'Fresh Meadows', 'Corona', 'East Elmhurst',\n",
       "       'Jackson Heights', 'Elmhurst', 'Rego Park', 'Forest Hills',\n",
       "       'Woodside', 'Maspeth', 'Middle Village', 'Cambria Heights',\n",
       "       'Springfield Gardens', 'Howard Beach', 'Kew Gardens', 'Ozone Park',\n",
       "       'South Richmond Hill', 'South Ozone Park', 'Rosedale', 'Hollis',\n",
       "       'Bellerose', 'Queens Village', 'Jamaica', 'Far Rockaway',\n",
       "       'Arverne', 'Rockaway Park', 'Philadelphia', 'Washington',\n",
       "       'Baltimore', 'Towson', 'Gwynn Oak', 'Pikesville', 'Essex',\n",
       "       'Dundalk', 'Curtis Bay', 'Catonsville', 'Parkville', 'Chesapeake',\n",
       "       'Virginia Beach', 'Garner', 'Knightdale', 'Wake Forest', 'Raleigh',\n",
       "       'Durham', 'Huntersville', 'Matthews', 'Charlotte', 'Atlanta',\n",
       "       'Ponte Vedra', 'Jacksonville', 'Atlantic Beach',\n",
       "       'Jacksonville Beach', 'Saint Johns', 'Miami Beach', 'Miami',\n",
       "       'Madison', 'Nashville', 'Cordova', 'Memphis', 'Fisherville',\n",
       "       'Prospect', 'Fairdale', 'Shepherdsville', 'Louisville',\n",
       "       'Blacklick', 'Dublin', 'Hilliard', 'Lewis Center', 'New Albany',\n",
       "       'Powell', 'Reynoldsburg', 'Westerville', 'Columbus',\n",
       "       'Canal Winchester', 'Galloway', 'Grove City', 'Groveport',\n",
       "       'Lockbourne', 'Pickerington', 'Westfield', 'Brownsburg',\n",
       "       'Greenfield', 'Indianapolis', 'Detroit', 'Highland Park',\n",
       "       'Hamtramck', 'Harper Woods', 'Grosse Pointe', 'Redford',\n",
       "       'Greendale', 'Milwaukee', 'Saint Francis', 'Minneapolis',\n",
       "       'Chicago', 'Elmwood Park', 'Kansas City', 'Haysville', 'Maize',\n",
       "       'Wichita', 'Bennington', 'Elkhorn', 'Gretna', 'Omaha', 'Bellevue',\n",
       "       'New Orleans', 'Edmond', 'Choctaw', 'Jones', 'Mustang', 'Piedmont',\n",
       "       'Spencer', 'Yukon', 'Oklahoma City', 'Broken Arrow', 'Tulsa',\n",
       "       'Newalla', 'Grand Prairie', 'Dallas', 'Arlington', 'Aledo',\n",
       "       'Burleson', 'Crowley', 'Euless', 'Haslet', 'Fort Worth', 'Keller',\n",
       "       'Justin', 'Roanoke', 'Houston', 'Huffman', 'Stafford',\n",
       "       'Missouri City', 'Webster', 'Atascosa', 'Boerne', 'Poteet',\n",
       "       'Converse', 'Schertz', 'San Antonio', 'Manchaca', 'Manor',\n",
       "       'Spicewood', 'Austin', 'Clint', 'El Paso', 'Englewood',\n",
       "       'Littleton', 'Denver', 'Calhan', 'Colorado Springs', 'Phoenix',\n",
       "       'New River', 'Apache Junction', 'Queen Creek', 'Mesa',\n",
       "       'Scottsdale', 'Paradise Valley', 'Glendale', 'Cave Creek',\n",
       "       'Laveen', 'Tolleson', 'Tucson', 'Albuquerque', 'Henderson',\n",
       "       'North Las Vegas', 'Las Vegas', 'Los Angeles', 'West Hollywood',\n",
       "       'Playa Vista', 'Beverly Hills', 'Culver City', 'Pacific Palisades',\n",
       "       'Venice', 'Marina Del Rey', 'Playa Del Rey', 'Santa Monica',\n",
       "       'Harbor City', 'Lakewood', 'San Pedro', 'Wilmington', 'Long Beach',\n",
       "       'Sunland', 'Tujunga', 'Canoga Park', 'Winnetka', 'West Hills',\n",
       "       'Chatsworth', 'Encino', 'Northridge', 'Porter Ranch', 'Pacoima',\n",
       "       'Reseda', 'San Fernando', 'Sylmar', 'North Hills', 'Granada Hills',\n",
       "       'Mission Hills', 'Sun Valley', 'Tarzana', 'Woodland Hills',\n",
       "       'Van Nuys', 'Panorama City', 'Sherman Oaks', 'Burbank',\n",
       "       'North Hollywood', 'Studio City', 'Valley Village',\n",
       "       'National City', 'Del Mar', 'La Jolla', 'San Diego', 'San Ysidro',\n",
       "       'Hanford', 'Friant', 'Kerman', 'Fresno', 'San Francisco',\n",
       "       'San Leandro', 'Oakland', 'Emeryville', 'Berkeley', 'Campbell',\n",
       "       'Milpitas', 'Santa Clara', 'San Jose', 'Mount Hamilton',\n",
       "       'Sacramento', 'Portland', 'Seattle'], dtype=object)"
      ]
     },
     "execution_count": 9,
     "metadata": {},
     "output_type": "execute_result"
    }
   ],
   "source": [
    "df3.City.unique()"
   ]
  },
  {
   "cell_type": "code",
   "execution_count": 10,
   "id": "a3b5389e-16ed-45b4-b5dc-1f648a2a4329",
   "metadata": {},
   "outputs": [
    {
     "data": {
      "text/plain": [
       "243"
      ]
     },
     "execution_count": 10,
     "metadata": {},
     "output_type": "execute_result"
    }
   ],
   "source": [
    "len(df3.City.unique())"
   ]
  },
  {
   "cell_type": "code",
   "execution_count": 11,
   "id": "6357c4f0-a925-4a36-b518-cd2e9317fbd3",
   "metadata": {
    "scrolled": true
   },
   "outputs": [
    {
     "data": {
      "text/plain": [
       "City\n",
       "Charlotte              894\n",
       "Mesa                   894\n",
       "Las Vegas              892\n",
       "Denver                 888\n",
       "Virginia Beach         883\n",
       "                      ... \n",
       "Ozone Park               1\n",
       "Knightdale               1\n",
       "South Richmond Hill      1\n",
       "Kew Gardens              1\n",
       "Lockbourne               1\n",
       "Name: City, Length: 243, dtype: int64"
      ]
     },
     "execution_count": 11,
     "metadata": {},
     "output_type": "execute_result"
    }
   ],
   "source": [
    "city_stats = df3.groupby('City')['City'].agg('count').sort_values(ascending=False)\n",
    "city_stats"
   ]
  },
  {
   "cell_type": "markdown",
   "id": "a4d3fcfc-725a-485c-be11-d7810dc5d271",
   "metadata": {},
   "source": [
    "## Dimensionality Reduction"
   ]
  },
  {
   "cell_type": "markdown",
   "id": "b667a4a0-d894-434b-afa6-cdb078b44fac",
   "metadata": {},
   "source": [
    "**Any location having less than 10 data points should be tagged as \"other\" location. This way number of categories can be reduced by huge amount. Later on when we do one hot encoding, it will help us with having fewer dummy columns**"
   ]
  },
  {
   "cell_type": "code",
   "execution_count": 12,
   "id": "8ca182f7-f86a-4b83-be95-301d73baea34",
   "metadata": {},
   "outputs": [
    {
     "data": {
      "text/plain": [
       "City\n",
       "Berkeley               10\n",
       "Redford                10\n",
       "Reseda                 10\n",
       "Pacoima                10\n",
       "Tarzana                10\n",
       "                       ..\n",
       "Ozone Park              1\n",
       "Knightdale              1\n",
       "South Richmond Hill     1\n",
       "Kew Gardens             1\n",
       "Lockbourne              1\n",
       "Name: City, Length: 143, dtype: int64"
      ]
     },
     "execution_count": 12,
     "metadata": {},
     "output_type": "execute_result"
    }
   ],
   "source": [
    "city_stats_less_than_10 = city_stats[city_stats<=10]\n",
    "city_stats_less_than_10"
   ]
  },
  {
   "cell_type": "code",
   "execution_count": 13,
   "id": "4f94e1e8-4f18-4f4b-89d5-fb8ddff5c6a2",
   "metadata": {},
   "outputs": [
    {
     "data": {
      "text/plain": [
       "101"
      ]
     },
     "execution_count": 13,
     "metadata": {},
     "output_type": "execute_result"
    }
   ],
   "source": [
    "df3.City = df3.City.apply(lambda x: 'other' if x in city_stats_less_than_10 else x)\n",
    "len(df3.City.unique())"
   ]
  },
  {
   "cell_type": "code",
   "execution_count": 14,
   "id": "92b95e06-b659-450d-baef-8f3f0d444bdf",
   "metadata": {},
   "outputs": [
    {
     "data": {
      "text/html": [
       "<div>\n",
       "<style scoped>\n",
       "    .dataframe tbody tr th:only-of-type {\n",
       "        vertical-align: middle;\n",
       "    }\n",
       "\n",
       "    .dataframe tbody tr th {\n",
       "        vertical-align: top;\n",
       "    }\n",
       "\n",
       "    .dataframe thead th {\n",
       "        text-align: right;\n",
       "    }\n",
       "</style>\n",
       "<table border=\"1\" class=\"dataframe\">\n",
       "  <thead>\n",
       "    <tr style=\"text-align: right;\">\n",
       "      <th></th>\n",
       "      <th>Price</th>\n",
       "      <th>Beds</th>\n",
       "      <th>Baths</th>\n",
       "      <th>Living Space</th>\n",
       "      <th>City</th>\n",
       "      <th>price_per_living_space</th>\n",
       "    </tr>\n",
       "  </thead>\n",
       "  <tbody>\n",
       "    <tr>\n",
       "      <th>0</th>\n",
       "      <td>3999000.0</td>\n",
       "      <td>2</td>\n",
       "      <td>3</td>\n",
       "      <td>1967</td>\n",
       "      <td>New York</td>\n",
       "      <td>2033.05</td>\n",
       "    </tr>\n",
       "    <tr>\n",
       "      <th>1</th>\n",
       "      <td>3999000.0</td>\n",
       "      <td>2</td>\n",
       "      <td>3</td>\n",
       "      <td>1967</td>\n",
       "      <td>New York</td>\n",
       "      <td>2033.05</td>\n",
       "    </tr>\n",
       "    <tr>\n",
       "      <th>2</th>\n",
       "      <td>1650000.0</td>\n",
       "      <td>1</td>\n",
       "      <td>1</td>\n",
       "      <td>718</td>\n",
       "      <td>New York</td>\n",
       "      <td>2298.05</td>\n",
       "    </tr>\n",
       "    <tr>\n",
       "      <th>3</th>\n",
       "      <td>760000.0</td>\n",
       "      <td>3</td>\n",
       "      <td>2</td>\n",
       "      <td>1538</td>\n",
       "      <td>New York</td>\n",
       "      <td>494.15</td>\n",
       "    </tr>\n",
       "    <tr>\n",
       "      <th>4</th>\n",
       "      <td>1100000.0</td>\n",
       "      <td>1</td>\n",
       "      <td>1</td>\n",
       "      <td>600</td>\n",
       "      <td>New York</td>\n",
       "      <td>1833.33</td>\n",
       "    </tr>\n",
       "  </tbody>\n",
       "</table>\n",
       "</div>"
      ],
      "text/plain": [
       "       Price  Beds  Baths  Living Space      City  price_per_living_space\n",
       "0  3999000.0     2      3          1967  New York                 2033.05\n",
       "1  3999000.0     2      3          1967  New York                 2033.05\n",
       "2  1650000.0     1      1           718  New York                 2298.05\n",
       "3   760000.0     3      2          1538  New York                  494.15\n",
       "4  1100000.0     1      1           600  New York                 1833.33"
      ]
     },
     "execution_count": 14,
     "metadata": {},
     "output_type": "execute_result"
    }
   ],
   "source": [
    "df3.head()"
   ]
  },
  {
   "cell_type": "code",
   "execution_count": 15,
   "id": "ed0cee33-aa6b-411f-9663-86043f564e06",
   "metadata": {},
   "outputs": [
    {
     "data": {
      "text/html": [
       "<div>\n",
       "<style scoped>\n",
       "    .dataframe tbody tr th:only-of-type {\n",
       "        vertical-align: middle;\n",
       "    }\n",
       "\n",
       "    .dataframe tbody tr th {\n",
       "        vertical-align: top;\n",
       "    }\n",
       "\n",
       "    .dataframe thead th {\n",
       "        text-align: right;\n",
       "    }\n",
       "</style>\n",
       "<table border=\"1\" class=\"dataframe\">\n",
       "  <thead>\n",
       "    <tr style=\"text-align: right;\">\n",
       "      <th></th>\n",
       "      <th>Price</th>\n",
       "      <th>Beds</th>\n",
       "      <th>Baths</th>\n",
       "      <th>Living Space</th>\n",
       "      <th>City</th>\n",
       "      <th>price_per_living_space</th>\n",
       "    </tr>\n",
       "  </thead>\n",
       "  <tbody>\n",
       "    <tr>\n",
       "      <th>52</th>\n",
       "      <td>799000.0</td>\n",
       "      <td>4</td>\n",
       "      <td>5</td>\n",
       "      <td>628</td>\n",
       "      <td>Staten Island</td>\n",
       "      <td>1272.29</td>\n",
       "    </tr>\n",
       "    <tr>\n",
       "      <th>280</th>\n",
       "      <td>1890000.0</td>\n",
       "      <td>6</td>\n",
       "      <td>5</td>\n",
       "      <td>1100</td>\n",
       "      <td>Brooklyn</td>\n",
       "      <td>1718.18</td>\n",
       "    </tr>\n",
       "    <tr>\n",
       "      <th>455</th>\n",
       "      <td>2980000.0</td>\n",
       "      <td>14</td>\n",
       "      <td>8</td>\n",
       "      <td>1705</td>\n",
       "      <td>Flushing</td>\n",
       "      <td>1747.80</td>\n",
       "    </tr>\n",
       "    <tr>\n",
       "      <th>749</th>\n",
       "      <td>285000.0</td>\n",
       "      <td>2</td>\n",
       "      <td>3</td>\n",
       "      <td>215</td>\n",
       "      <td>Philadelphia</td>\n",
       "      <td>1325.58</td>\n",
       "    </tr>\n",
       "    <tr>\n",
       "      <th>2214</th>\n",
       "      <td>120000.0</td>\n",
       "      <td>11</td>\n",
       "      <td>2</td>\n",
       "      <td>2160</td>\n",
       "      <td>Baltimore</td>\n",
       "      <td>55.56</td>\n",
       "    </tr>\n",
       "  </tbody>\n",
       "</table>\n",
       "</div>"
      ],
      "text/plain": [
       "          Price  Beds  Baths  Living Space           City  \\\n",
       "52     799000.0     4      5           628  Staten Island   \n",
       "280   1890000.0     6      5          1100       Brooklyn   \n",
       "455   2980000.0    14      8          1705       Flushing   \n",
       "749    285000.0     2      3           215   Philadelphia   \n",
       "2214   120000.0    11      2          2160      Baltimore   \n",
       "\n",
       "      price_per_living_space  \n",
       "52                   1272.29  \n",
       "280                  1718.18  \n",
       "455                  1747.80  \n",
       "749                  1325.58  \n",
       "2214                   55.56  "
      ]
     },
     "execution_count": 15,
     "metadata": {},
     "output_type": "execute_result"
    }
   ],
   "source": [
    "df3[df3['Living Space']/df3.Beds<200].head()"
   ]
  },
  {
   "cell_type": "code",
   "execution_count": 16,
   "id": "8ddeade6-86ef-4c31-8357-9e98cd15a0e0",
   "metadata": {},
   "outputs": [
    {
     "data": {
      "text/plain": [
       "(39981, 6)"
      ]
     },
     "execution_count": 16,
     "metadata": {},
     "output_type": "execute_result"
    }
   ],
   "source": [
    "df3.shape"
   ]
  },
  {
   "cell_type": "markdown",
   "id": "299f4fd3-44be-4878-97e0-551e508071f8",
   "metadata": {},
   "source": [
    "## Outlier Removal Using Business Logic"
   ]
  },
  {
   "cell_type": "code",
   "execution_count": 17,
   "id": "33e4dbc2-794b-498e-aa9f-d73f86680e1b",
   "metadata": {},
   "outputs": [
    {
     "data": {
      "text/plain": [
       "(39865, 6)"
      ]
     },
     "execution_count": 17,
     "metadata": {},
     "output_type": "execute_result"
    }
   ],
   "source": [
    "df4=df3[~(df3['Living Space']/df3.Beds<200)]\n",
    "df4.shape"
   ]
  },
  {
   "cell_type": "code",
   "execution_count": 18,
   "id": "d1f558da-f6c4-470c-a1c4-f6f7712fba85",
   "metadata": {},
   "outputs": [
    {
     "data": {
      "text/plain": [
       "count    39865.000000\n",
       "mean       322.020070\n",
       "std        272.899138\n",
       "min          0.830000\n",
       "25%        166.630000\n",
       "50%        232.860000\n",
       "75%        377.820000\n",
       "max       7291.670000\n",
       "Name: price_per_living_space, dtype: float64"
      ]
     },
     "execution_count": 18,
     "metadata": {},
     "output_type": "execute_result"
    }
   ],
   "source": [
    "df4.price_per_living_space.describe()"
   ]
  },
  {
   "cell_type": "code",
   "execution_count": 19,
   "id": "afb69189-883b-49aa-ae5a-72877ea93109",
   "metadata": {},
   "outputs": [
    {
     "data": {
      "text/plain": [
       "(32242, 6)"
      ]
     },
     "execution_count": 19,
     "metadata": {},
     "output_type": "execute_result"
    }
   ],
   "source": [
    "def remove_pps_outliers(df):\n",
    "    df_out=pd.DataFrame()\n",
    "    for key,subDF in df.groupby('City'):\n",
    "        m=np.mean(subDF.price_per_living_space)\n",
    "        st=np.std(subDF.price_per_living_space)\n",
    "        reduced_DF=subDF[(subDF.price_per_living_space>(m-st))&(subDF.price_per_living_space<=(m+st))]\n",
    "        df_out=pd.concat([df_out,reduced_DF],ignore_index=True)\n",
    "    return df_out\n",
    "\n",
    "df5 = remove_pps_outliers(df4)\n",
    "df5.shape"
   ]
  },
  {
   "cell_type": "code",
   "execution_count": 20,
   "id": "b751dc05-f5c4-4295-99d2-2a4186ac2a3b",
   "metadata": {},
   "outputs": [
    {
     "data": {
      "image/png": "[encoded data removed]",
      "text/plain": [
       "<Figure size 1500x1000 with 1 Axes>"
      ]
     },
     "metadata": {},
     "output_type": "display_data"
    }
   ],
   "source": [
    "def plot_scatter_chart(df,location):\n",
    "    Beds_2 = df[(df.City==location) & (df.Beds==2)]\n",
    "    Beds_3 = df[(df.City==location) & (df.Beds==3)]\n",
    "    matplotlib.rcParams['figure.figsize'] = (15,10)\n",
    "    plt.scatter(Beds_2['Living Space'],Beds_2.Price,color='blue',label='2 Beds', s=50)\n",
    "    plt.scatter(Beds_3['Living Space'],Beds_3.Price,marker='+', color='green',label='3 Beds', s=50)\n",
    "    plt.xlabel(\"Total Living Space\")\n",
    "    plt.ylabel(\"Price\")\n",
    "    plt.title('City')\n",
    "    plt.legend()\n",
    "\n",
    "plot_scatter_chart(df5,'Charlotte')"
   ]
  },
  {
   "cell_type": "code",
   "execution_count": 21,
   "id": "bdd1e447-208d-48b5-8d19-94ba5fec34a3",
   "metadata": {},
   "outputs": [
    {
     "data": {
      "image/png": "[encoded data removed]",
      "text/plain": [
       "<Figure size 1500x1000 with 1 Axes>"
      ]
     },
     "metadata": {},
     "output_type": "display_data"
    }
   ],
   "source": [
    "plot_scatter_chart(df5,'Las Vegas')"
   ]
  },
  {
   "cell_type": "code",
   "execution_count": 22,
   "id": "9b8e77d3-2573-4420-991f-38f1ea1289f3",
   "metadata": {},
   "outputs": [
    {
     "data": {
      "text/plain": [
       "(15480, 6)"
      ]
     },
     "execution_count": 22,
     "metadata": {},
     "output_type": "execute_result"
    }
   ],
   "source": [
    "def remove_beds_outliers(df):\n",
    "    exclude_indices = np.array([])\n",
    "    for city, city_df in df.groupby('City'):\n",
    "        beds_stats = {}\n",
    "        for beds, beds_df in city_df.groupby('Beds'):\n",
    "            beds_stats[beds] = {\n",
    "                'mean': np.mean(beds_df.price_per_living_space),\n",
    "                'std': np.std(beds_df.price_per_living_space),\n",
    "                'count': beds_df.shape[0]\n",
    "            }\n",
    "        for beds, beds_df in city_df.groupby('Beds'):\n",
    "            stats = beds_stats.get(beds-1)\n",
    "            if stats and stats['count']>5:\n",
    "                exclude_indices = np.append(exclude_indices, beds_df[beds_df.price_per_living_space<(stats['mean'])].index.values)\n",
    "    return df.drop(exclude_indices,axis='index')\n",
    "df6 = remove_beds_outliers(df5)\n",
    "\n",
    "df6.shape"
   ]
  },
  {
   "cell_type": "code",
   "execution_count": 23,
   "id": "74ba9dc9-d80f-4e91-b2c6-dfab30470a3f",
   "metadata": {},
   "outputs": [
    {
     "data": {
      "image/png": "[encoded data removed]",
      "text/plain": [
       "<Figure size 1500x1000 with 1 Axes>"
      ]
     },
     "metadata": {},
     "output_type": "display_data"
    }
   ],
   "source": [
    "plot_scatter_chart(df5,'Charlotte')"
   ]
  },
  {
   "cell_type": "code",
   "execution_count": 24,
   "id": "925bea55-819d-4f30-b4b0-4aeaddf70b8c",
   "metadata": {},
   "outputs": [
    {
     "data": {
      "image/png": "[encoded data removed]",
      "text/plain": [
       "<Figure size 1500x1000 with 1 Axes>"
      ]
     },
     "metadata": {},
     "output_type": "display_data"
    }
   ],
   "source": [
    "plot_scatter_chart(df5,'Las Vegas')"
   ]
  },
  {
   "cell_type": "markdown",
   "id": "b42aa9b4-ef61-4243-a637-67018dce2ac3",
   "metadata": {},
   "source": [
    "## Outlier Removal Using Bathrooms Feature"
   ]
  },
  {
   "cell_type": "code",
   "execution_count": 25,
   "id": "b5dca620-0329-4fb2-a088-15027de59c72",
   "metadata": {},
   "outputs": [
    {
     "data": {
      "text/plain": [
       "Text(0, 0.5, 'Count')"
      ]
     },
     "execution_count": 25,
     "metadata": {},
     "output_type": "execute_result"
    },
    {
     "data": {
      "image/png": "[encoded data removed]",
      "text/plain": [
       "<Figure size 2000x1000 with 1 Axes>"
      ]
     },
     "metadata": {},
     "output_type": "display_data"
    }
   ],
   "source": [
    "import matplotlib\n",
    "matplotlib.rcParams[\"figure.figsize\"] = (20,10)\n",
    "plt.hist(df6.price_per_living_space,rwidth=0.8)\n",
    "plt.xlabel(\"Price Per Living Space\")\n",
    "plt.ylabel(\"Count\")"
   ]
  },
  {
   "cell_type": "code",
   "execution_count": 26,
   "id": "eb0816d1-226b-4b13-8303-3549172ee100",
   "metadata": {},
   "outputs": [
    {
     "data": {
      "text/plain": [
       "Text(0, 0.5, 'Count')"
      ]
     },
     "execution_count": 26,
     "metadata": {},
     "output_type": "execute_result"
    },
    {
     "data": {
      "image/png": "[encoded data removed]",
      "text/plain": [
       "<Figure size 2000x1000 with 1 Axes>"
      ]
     },
     "metadata": {},
     "output_type": "display_data"
    }
   ],
   "source": [
    "plt.hist(df6.Baths,rwidth=0.8)\n",
    "plt.xlabel(\"Number of bathrooms\")\n",
    "plt.ylabel(\"Count\")"
   ]
  },
  {
   "cell_type": "code",
   "execution_count": 27,
   "id": "faf62dcc-fbb4-43fc-b06b-58b9b70c08bf",
   "metadata": {},
   "outputs": [
    {
     "data": {
      "text/html": [
       "<div>\n",
       "<style scoped>\n",
       "    .dataframe tbody tr th:only-of-type {\n",
       "        vertical-align: middle;\n",
       "    }\n",
       "\n",
       "    .dataframe tbody tr th {\n",
       "        vertical-align: top;\n",
       "    }\n",
       "\n",
       "    .dataframe thead th {\n",
       "        text-align: right;\n",
       "    }\n",
       "</style>\n",
       "<table border=\"1\" class=\"dataframe\">\n",
       "  <thead>\n",
       "    <tr style=\"text-align: right;\">\n",
       "      <th></th>\n",
       "      <th>Price</th>\n",
       "      <th>Beds</th>\n",
       "      <th>Baths</th>\n",
       "      <th>Living Space</th>\n",
       "      <th>City</th>\n",
       "      <th>price_per_living_space</th>\n",
       "    </tr>\n",
       "  </thead>\n",
       "  <tbody>\n",
       "    <tr>\n",
       "      <th>1924</th>\n",
       "      <td>4995000.0</td>\n",
       "      <td>8</td>\n",
       "      <td>11</td>\n",
       "      <td>17390</td>\n",
       "      <td>Atlanta</td>\n",
       "      <td>287.23</td>\n",
       "    </tr>\n",
       "    <tr>\n",
       "      <th>1932</th>\n",
       "      <td>4995000.0</td>\n",
       "      <td>8</td>\n",
       "      <td>11</td>\n",
       "      <td>17390</td>\n",
       "      <td>Atlanta</td>\n",
       "      <td>287.23</td>\n",
       "    </tr>\n",
       "    <tr>\n",
       "      <th>2761</th>\n",
       "      <td>1800000.0</td>\n",
       "      <td>10</td>\n",
       "      <td>12</td>\n",
       "      <td>10146</td>\n",
       "      <td>Baltimore</td>\n",
       "      <td>177.41</td>\n",
       "    </tr>\n",
       "    <tr>\n",
       "      <th>3367</th>\n",
       "      <td>4199000.0</td>\n",
       "      <td>8</td>\n",
       "      <td>11</td>\n",
       "      <td>9682</td>\n",
       "      <td>Brooklyn</td>\n",
       "      <td>433.69</td>\n",
       "    </tr>\n",
       "    <tr>\n",
       "      <th>3450</th>\n",
       "      <td>1815000.0</td>\n",
       "      <td>7</td>\n",
       "      <td>12</td>\n",
       "      <td>5328</td>\n",
       "      <td>Canoga Park</td>\n",
       "      <td>340.65</td>\n",
       "    </tr>\n",
       "    <tr>\n",
       "      <th>6153</th>\n",
       "      <td>3277025.0</td>\n",
       "      <td>34</td>\n",
       "      <td>20</td>\n",
       "      <td>9536</td>\n",
       "      <td>Dallas</td>\n",
       "      <td>343.65</td>\n",
       "    </tr>\n",
       "    <tr>\n",
       "      <th>7536</th>\n",
       "      <td>145000.0</td>\n",
       "      <td>3</td>\n",
       "      <td>21</td>\n",
       "      <td>1194</td>\n",
       "      <td>Detroit</td>\n",
       "      <td>121.44</td>\n",
       "    </tr>\n",
       "    <tr>\n",
       "      <th>9584</th>\n",
       "      <td>1755000.0</td>\n",
       "      <td>25</td>\n",
       "      <td>14</td>\n",
       "      <td>9650</td>\n",
       "      <td>Fresno</td>\n",
       "      <td>181.87</td>\n",
       "    </tr>\n",
       "    <tr>\n",
       "      <th>9966</th>\n",
       "      <td>5875000.0</td>\n",
       "      <td>44</td>\n",
       "      <td>42</td>\n",
       "      <td>28728</td>\n",
       "      <td>Fresno</td>\n",
       "      <td>204.50</td>\n",
       "    </tr>\n",
       "    <tr>\n",
       "      <th>9987</th>\n",
       "      <td>3500000.0</td>\n",
       "      <td>46</td>\n",
       "      <td>46</td>\n",
       "      <td>19768</td>\n",
       "      <td>Fresno</td>\n",
       "      <td>177.05</td>\n",
       "    </tr>\n",
       "    <tr>\n",
       "      <th>10514</th>\n",
       "      <td>515000.0</td>\n",
       "      <td>3</td>\n",
       "      <td>14</td>\n",
       "      <td>1943</td>\n",
       "      <td>Houston</td>\n",
       "      <td>265.05</td>\n",
       "    </tr>\n",
       "    <tr>\n",
       "      <th>14213</th>\n",
       "      <td>4700000.0</td>\n",
       "      <td>20</td>\n",
       "      <td>14</td>\n",
       "      <td>10158</td>\n",
       "      <td>Long Beach</td>\n",
       "      <td>462.69</td>\n",
       "    </tr>\n",
       "    <tr>\n",
       "      <th>14596</th>\n",
       "      <td>4795000.0</td>\n",
       "      <td>17</td>\n",
       "      <td>18</td>\n",
       "      <td>10166</td>\n",
       "      <td>Los Angeles</td>\n",
       "      <td>471.67</td>\n",
       "    </tr>\n",
       "    <tr>\n",
       "      <th>14655</th>\n",
       "      <td>4375000.0</td>\n",
       "      <td>18</td>\n",
       "      <td>16</td>\n",
       "      <td>8854</td>\n",
       "      <td>Los Angeles</td>\n",
       "      <td>494.13</td>\n",
       "    </tr>\n",
       "    <tr>\n",
       "      <th>19213</th>\n",
       "      <td>1895000.0</td>\n",
       "      <td>14</td>\n",
       "      <td>11</td>\n",
       "      <td>8105</td>\n",
       "      <td>New Orleans</td>\n",
       "      <td>233.81</td>\n",
       "    </tr>\n",
       "    <tr>\n",
       "      <th>19324</th>\n",
       "      <td>828500.0</td>\n",
       "      <td>13</td>\n",
       "      <td>11</td>\n",
       "      <td>6843</td>\n",
       "      <td>New Orleans</td>\n",
       "      <td>121.07</td>\n",
       "    </tr>\n",
       "    <tr>\n",
       "      <th>20755</th>\n",
       "      <td>175000.0</td>\n",
       "      <td>2</td>\n",
       "      <td>11</td>\n",
       "      <td>1344</td>\n",
       "      <td>Omaha</td>\n",
       "      <td>130.21</td>\n",
       "    </tr>\n",
       "    <tr>\n",
       "      <th>26976</th>\n",
       "      <td>8888888.0</td>\n",
       "      <td>10</td>\n",
       "      <td>12</td>\n",
       "      <td>19550</td>\n",
       "      <td>San Jose</td>\n",
       "      <td>454.67</td>\n",
       "    </tr>\n",
       "  </tbody>\n",
       "</table>\n",
       "</div>"
      ],
      "text/plain": [
       "           Price  Beds  Baths  Living Space         City  \\\n",
       "1924   4995000.0     8     11         17390      Atlanta   \n",
       "1932   4995000.0     8     11         17390      Atlanta   \n",
       "2761   1800000.0    10     12         10146    Baltimore   \n",
       "3367   4199000.0     8     11          9682     Brooklyn   \n",
       "3450   1815000.0     7     12          5328  Canoga Park   \n",
       "6153   3277025.0    34     20          9536       Dallas   \n",
       "7536    145000.0     3     21          1194      Detroit   \n",
       "9584   1755000.0    25     14          9650       Fresno   \n",
       "9966   5875000.0    44     42         28728       Fresno   \n",
       "9987   3500000.0    46     46         19768       Fresno   \n",
       "10514   515000.0     3     14          1943      Houston   \n",
       "14213  4700000.0    20     14         10158   Long Beach   \n",
       "14596  4795000.0    17     18         10166  Los Angeles   \n",
       "14655  4375000.0    18     16          8854  Los Angeles   \n",
       "19213  1895000.0    14     11          8105  New Orleans   \n",
       "19324   828500.0    13     11          6843  New Orleans   \n",
       "20755   175000.0     2     11          1344        Omaha   \n",
       "26976  8888888.0    10     12         19550     San Jose   \n",
       "\n",
       "       price_per_living_space  \n",
       "1924                   287.23  \n",
       "1932                   287.23  \n",
       "2761                   177.41  \n",
       "3367                   433.69  \n",
       "3450                   340.65  \n",
       "6153                   343.65  \n",
       "7536                   121.44  \n",
       "9584                   181.87  \n",
       "9966                   204.50  \n",
       "9987                   177.05  \n",
       "10514                  265.05  \n",
       "14213                  462.69  \n",
       "14596                  471.67  \n",
       "14655                  494.13  \n",
       "19213                  233.81  \n",
       "19324                  121.07  \n",
       "20755                  130.21  \n",
       "26976                  454.67  "
      ]
     },
     "execution_count": 27,
     "metadata": {},
     "output_type": "execute_result"
    }
   ],
   "source": [
    "df6[df6.Baths>10]"
   ]
  },
  {
   "cell_type": "code",
   "execution_count": 28,
   "id": "28927bc6-d6d6-43a4-87ff-5708d20d9db3",
   "metadata": {},
   "outputs": [
    {
     "data": {
      "text/html": [
       "<div>\n",
       "<style scoped>\n",
       "    .dataframe tbody tr th:only-of-type {\n",
       "        vertical-align: middle;\n",
       "    }\n",
       "\n",
       "    .dataframe tbody tr th {\n",
       "        vertical-align: top;\n",
       "    }\n",
       "\n",
       "    .dataframe thead th {\n",
       "        text-align: right;\n",
       "    }\n",
       "</style>\n",
       "<table border=\"1\" class=\"dataframe\">\n",
       "  <thead>\n",
       "    <tr style=\"text-align: right;\">\n",
       "      <th></th>\n",
       "      <th>Price</th>\n",
       "      <th>Beds</th>\n",
       "      <th>Baths</th>\n",
       "      <th>Living Space</th>\n",
       "      <th>City</th>\n",
       "      <th>price_per_living_space</th>\n",
       "    </tr>\n",
       "  </thead>\n",
       "  <tbody>\n",
       "    <tr>\n",
       "      <th>1271</th>\n",
       "      <td>3825000.0</td>\n",
       "      <td>4</td>\n",
       "      <td>7</td>\n",
       "      <td>6758</td>\n",
       "      <td>Atlanta</td>\n",
       "      <td>566.00</td>\n",
       "    </tr>\n",
       "    <tr>\n",
       "      <th>1300</th>\n",
       "      <td>3825000.0</td>\n",
       "      <td>4</td>\n",
       "      <td>7</td>\n",
       "      <td>6758</td>\n",
       "      <td>Atlanta</td>\n",
       "      <td>566.00</td>\n",
       "    </tr>\n",
       "    <tr>\n",
       "      <th>1924</th>\n",
       "      <td>4995000.0</td>\n",
       "      <td>8</td>\n",
       "      <td>11</td>\n",
       "      <td>17390</td>\n",
       "      <td>Atlanta</td>\n",
       "      <td>287.23</td>\n",
       "    </tr>\n",
       "    <tr>\n",
       "      <th>1932</th>\n",
       "      <td>4995000.0</td>\n",
       "      <td>8</td>\n",
       "      <td>11</td>\n",
       "      <td>17390</td>\n",
       "      <td>Atlanta</td>\n",
       "      <td>287.23</td>\n",
       "    </tr>\n",
       "    <tr>\n",
       "      <th>2288</th>\n",
       "      <td>2495000.0</td>\n",
       "      <td>4</td>\n",
       "      <td>7</td>\n",
       "      <td>6200</td>\n",
       "      <td>Austin</td>\n",
       "      <td>402.42</td>\n",
       "    </tr>\n",
       "  </tbody>\n",
       "</table>\n",
       "</div>"
      ],
      "text/plain": [
       "          Price  Beds  Baths  Living Space     City  price_per_living_space\n",
       "1271  3825000.0     4      7          6758  Atlanta                  566.00\n",
       "1300  3825000.0     4      7          6758  Atlanta                  566.00\n",
       "1924  4995000.0     8     11         17390  Atlanta                  287.23\n",
       "1932  4995000.0     8     11         17390  Atlanta                  287.23\n",
       "2288  2495000.0     4      7          6200   Austin                  402.42"
      ]
     },
     "execution_count": 28,
     "metadata": {},
     "output_type": "execute_result"
    }
   ],
   "source": [
    "df6[df6.Baths>df6.Beds+2].head()"
   ]
  },
  {
   "cell_type": "code",
   "execution_count": 29,
   "id": "9bc329f7-4f5f-4b87-a57e-536f1ec4ec8a",
   "metadata": {},
   "outputs": [
    {
     "data": {
      "text/plain": [
       "(15334, 6)"
      ]
     },
     "execution_count": 29,
     "metadata": {},
     "output_type": "execute_result"
    }
   ],
   "source": [
    "df7 = df6[df6.Baths<df6.Beds+2]\n",
    "df7.shape"
   ]
  },
  {
   "cell_type": "code",
   "execution_count": 30,
   "id": "01c6e442-e036-4006-96c9-049e9fc9afbe",
   "metadata": {},
   "outputs": [],
   "source": [
    "df7 = df7.drop('price_per_living_space',axis=1)"
   ]
  },
  {
   "cell_type": "markdown",
   "id": "e9d45c13-d141-4114-ace0-87162a8649ef",
   "metadata": {},
   "source": [
    "## One Hot Encoding For Location\n"
   ]
  },
  {
   "cell_type": "code",
   "execution_count": 31,
   "id": "0577c190-b3fc-4e13-9fc7-c948fdf6fe07",
   "metadata": {},
   "outputs": [
    {
     "data": {
      "text/html": [
       "<div>\n",
       "<style scoped>\n",
       "    .dataframe tbody tr th:only-of-type {\n",
       "        vertical-align: middle;\n",
       "    }\n",
       "\n",
       "    .dataframe tbody tr th {\n",
       "        vertical-align: top;\n",
       "    }\n",
       "\n",
       "    .dataframe thead th {\n",
       "        text-align: right;\n",
       "    }\n",
       "</style>\n",
       "<table border=\"1\" class=\"dataframe\">\n",
       "  <thead>\n",
       "    <tr style=\"text-align: right;\">\n",
       "      <th></th>\n",
       "      <th>Albuquerque</th>\n",
       "      <th>Apache Junction</th>\n",
       "      <th>Arlington</th>\n",
       "      <th>Atlanta</th>\n",
       "      <th>Austin</th>\n",
       "      <th>Baltimore</th>\n",
       "      <th>Bayside</th>\n",
       "      <th>Beverly Hills</th>\n",
       "      <th>Blacklick</th>\n",
       "      <th>Bronx</th>\n",
       "      <th>...</th>\n",
       "      <th>Tulsa</th>\n",
       "      <th>Van Nuys</th>\n",
       "      <th>Venice</th>\n",
       "      <th>Virginia Beach</th>\n",
       "      <th>Washington</th>\n",
       "      <th>Westerville</th>\n",
       "      <th>Wichita</th>\n",
       "      <th>Woodland Hills</th>\n",
       "      <th>Yukon</th>\n",
       "      <th>other</th>\n",
       "    </tr>\n",
       "  </thead>\n",
       "  <tbody>\n",
       "    <tr>\n",
       "      <th>1</th>\n",
       "      <td>True</td>\n",
       "      <td>False</td>\n",
       "      <td>False</td>\n",
       "      <td>False</td>\n",
       "      <td>False</td>\n",
       "      <td>False</td>\n",
       "      <td>False</td>\n",
       "      <td>False</td>\n",
       "      <td>False</td>\n",
       "      <td>False</td>\n",
       "      <td>...</td>\n",
       "      <td>False</td>\n",
       "      <td>False</td>\n",
       "      <td>False</td>\n",
       "      <td>False</td>\n",
       "      <td>False</td>\n",
       "      <td>False</td>\n",
       "      <td>False</td>\n",
       "      <td>False</td>\n",
       "      <td>False</td>\n",
       "      <td>False</td>\n",
       "    </tr>\n",
       "    <tr>\n",
       "      <th>2</th>\n",
       "      <td>True</td>\n",
       "      <td>False</td>\n",
       "      <td>False</td>\n",
       "      <td>False</td>\n",
       "      <td>False</td>\n",
       "      <td>False</td>\n",
       "      <td>False</td>\n",
       "      <td>False</td>\n",
       "      <td>False</td>\n",
       "      <td>False</td>\n",
       "      <td>...</td>\n",
       "      <td>False</td>\n",
       "      <td>False</td>\n",
       "      <td>False</td>\n",
       "      <td>False</td>\n",
       "      <td>False</td>\n",
       "      <td>False</td>\n",
       "      <td>False</td>\n",
       "      <td>False</td>\n",
       "      <td>False</td>\n",
       "      <td>False</td>\n",
       "    </tr>\n",
       "    <tr>\n",
       "      <th>3</th>\n",
       "      <td>True</td>\n",
       "      <td>False</td>\n",
       "      <td>False</td>\n",
       "      <td>False</td>\n",
       "      <td>False</td>\n",
       "      <td>False</td>\n",
       "      <td>False</td>\n",
       "      <td>False</td>\n",
       "      <td>False</td>\n",
       "      <td>False</td>\n",
       "      <td>...</td>\n",
       "      <td>False</td>\n",
       "      <td>False</td>\n",
       "      <td>False</td>\n",
       "      <td>False</td>\n",
       "      <td>False</td>\n",
       "      <td>False</td>\n",
       "      <td>False</td>\n",
       "      <td>False</td>\n",
       "      <td>False</td>\n",
       "      <td>False</td>\n",
       "    </tr>\n",
       "  </tbody>\n",
       "</table>\n",
       "<p>3 rows × 101 columns</p>\n",
       "</div>"
      ],
      "text/plain": [
       "   Albuquerque  Apache Junction  Arlington  Atlanta  Austin  Baltimore  \\\n",
       "1         True            False      False    False   False      False   \n",
       "2         True            False      False    False   False      False   \n",
       "3         True            False      False    False   False      False   \n",
       "\n",
       "   Bayside  Beverly Hills  Blacklick  Bronx  ...  Tulsa  Van Nuys  Venice  \\\n",
       "1    False          False      False  False  ...  False     False   False   \n",
       "2    False          False      False  False  ...  False     False   False   \n",
       "3    False          False      False  False  ...  False     False   False   \n",
       "\n",
       "   Virginia Beach  Washington  Westerville  Wichita  Woodland Hills  Yukon  \\\n",
       "1           False       False        False    False           False  False   \n",
       "2           False       False        False    False           False  False   \n",
       "3           False       False        False    False           False  False   \n",
       "\n",
       "   other  \n",
       "1  False  \n",
       "2  False  \n",
       "3  False  \n",
       "\n",
       "[3 rows x 101 columns]"
      ]
     },
     "execution_count": 31,
     "metadata": {},
     "output_type": "execute_result"
    }
   ],
   "source": [
    "dummies = pd.get_dummies(df7.City)\n",
    "dummies.head(3)"
   ]
  },
  {
   "cell_type": "code",
   "execution_count": 32,
   "id": "af245cf6-feb4-43d3-ba27-40b0ca6a7de8",
   "metadata": {},
   "outputs": [
    {
     "data": {
      "text/html": [
       "<div>\n",
       "<style scoped>\n",
       "    .dataframe tbody tr th:only-of-type {\n",
       "        vertical-align: middle;\n",
       "    }\n",
       "\n",
       "    .dataframe tbody tr th {\n",
       "        vertical-align: top;\n",
       "    }\n",
       "\n",
       "    .dataframe thead th {\n",
       "        text-align: right;\n",
       "    }\n",
       "</style>\n",
       "<table border=\"1\" class=\"dataframe\">\n",
       "  <thead>\n",
       "    <tr style=\"text-align: right;\">\n",
       "      <th></th>\n",
       "      <th>Price</th>\n",
       "      <th>Beds</th>\n",
       "      <th>Baths</th>\n",
       "      <th>Living Space</th>\n",
       "      <th>City</th>\n",
       "      <th>Albuquerque</th>\n",
       "      <th>Apache Junction</th>\n",
       "      <th>Arlington</th>\n",
       "      <th>Atlanta</th>\n",
       "      <th>Austin</th>\n",
       "      <th>...</th>\n",
       "      <th>Tucson</th>\n",
       "      <th>Tulsa</th>\n",
       "      <th>Van Nuys</th>\n",
       "      <th>Venice</th>\n",
       "      <th>Virginia Beach</th>\n",
       "      <th>Washington</th>\n",
       "      <th>Westerville</th>\n",
       "      <th>Wichita</th>\n",
       "      <th>Woodland Hills</th>\n",
       "      <th>Yukon</th>\n",
       "    </tr>\n",
       "  </thead>\n",
       "  <tbody>\n",
       "    <tr>\n",
       "      <th>1</th>\n",
       "      <td>285000.0</td>\n",
       "      <td>1</td>\n",
       "      <td>2</td>\n",
       "      <td>1118</td>\n",
       "      <td>Albuquerque</td>\n",
       "      <td>True</td>\n",
       "      <td>False</td>\n",
       "      <td>False</td>\n",
       "      <td>False</td>\n",
       "      <td>False</td>\n",
       "      <td>...</td>\n",
       "      <td>False</td>\n",
       "      <td>False</td>\n",
       "      <td>False</td>\n",
       "      <td>False</td>\n",
       "      <td>False</td>\n",
       "      <td>False</td>\n",
       "      <td>False</td>\n",
       "      <td>False</td>\n",
       "      <td>False</td>\n",
       "      <td>False</td>\n",
       "    </tr>\n",
       "    <tr>\n",
       "      <th>2</th>\n",
       "      <td>479500.0</td>\n",
       "      <td>1</td>\n",
       "      <td>1</td>\n",
       "      <td>2068</td>\n",
       "      <td>Albuquerque</td>\n",
       "      <td>True</td>\n",
       "      <td>False</td>\n",
       "      <td>False</td>\n",
       "      <td>False</td>\n",
       "      <td>False</td>\n",
       "      <td>...</td>\n",
       "      <td>False</td>\n",
       "      <td>False</td>\n",
       "      <td>False</td>\n",
       "      <td>False</td>\n",
       "      <td>False</td>\n",
       "      <td>False</td>\n",
       "      <td>False</td>\n",
       "      <td>False</td>\n",
       "      <td>False</td>\n",
       "      <td>False</td>\n",
       "    </tr>\n",
       "    <tr>\n",
       "      <th>3</th>\n",
       "      <td>279900.0</td>\n",
       "      <td>2</td>\n",
       "      <td>1</td>\n",
       "      <td>1252</td>\n",
       "      <td>Albuquerque</td>\n",
       "      <td>True</td>\n",
       "      <td>False</td>\n",
       "      <td>False</td>\n",
       "      <td>False</td>\n",
       "      <td>False</td>\n",
       "      <td>...</td>\n",
       "      <td>False</td>\n",
       "      <td>False</td>\n",
       "      <td>False</td>\n",
       "      <td>False</td>\n",
       "      <td>False</td>\n",
       "      <td>False</td>\n",
       "      <td>False</td>\n",
       "      <td>False</td>\n",
       "      <td>False</td>\n",
       "      <td>False</td>\n",
       "    </tr>\n",
       "    <tr>\n",
       "      <th>4</th>\n",
       "      <td>868939.0</td>\n",
       "      <td>1</td>\n",
       "      <td>1</td>\n",
       "      <td>4622</td>\n",
       "      <td>Albuquerque</td>\n",
       "      <td>True</td>\n",
       "      <td>False</td>\n",
       "      <td>False</td>\n",
       "      <td>False</td>\n",
       "      <td>False</td>\n",
       "      <td>...</td>\n",
       "      <td>False</td>\n",
       "      <td>False</td>\n",
       "      <td>False</td>\n",
       "      <td>False</td>\n",
       "      <td>False</td>\n",
       "      <td>False</td>\n",
       "      <td>False</td>\n",
       "      <td>False</td>\n",
       "      <td>False</td>\n",
       "      <td>False</td>\n",
       "    </tr>\n",
       "    <tr>\n",
       "      <th>5</th>\n",
       "      <td>559000.0</td>\n",
       "      <td>3</td>\n",
       "      <td>3</td>\n",
       "      <td>2531</td>\n",
       "      <td>Albuquerque</td>\n",
       "      <td>True</td>\n",
       "      <td>False</td>\n",
       "      <td>False</td>\n",
       "      <td>False</td>\n",
       "      <td>False</td>\n",
       "      <td>...</td>\n",
       "      <td>False</td>\n",
       "      <td>False</td>\n",
       "      <td>False</td>\n",
       "      <td>False</td>\n",
       "      <td>False</td>\n",
       "      <td>False</td>\n",
       "      <td>False</td>\n",
       "      <td>False</td>\n",
       "      <td>False</td>\n",
       "      <td>False</td>\n",
       "    </tr>\n",
       "  </tbody>\n",
       "</table>\n",
       "<p>5 rows × 105 columns</p>\n",
       "</div>"
      ],
      "text/plain": [
       "      Price  Beds  Baths  Living Space         City  Albuquerque  \\\n",
       "1  285000.0     1      2          1118  Albuquerque         True   \n",
       "2  479500.0     1      1          2068  Albuquerque         True   \n",
       "3  279900.0     2      1          1252  Albuquerque         True   \n",
       "4  868939.0     1      1          4622  Albuquerque         True   \n",
       "5  559000.0     3      3          2531  Albuquerque         True   \n",
       "\n",
       "   Apache Junction  Arlington  Atlanta  Austin  ...  Tucson  Tulsa  Van Nuys  \\\n",
       "1            False      False    False   False  ...   False  False     False   \n",
       "2            False      False    False   False  ...   False  False     False   \n",
       "3            False      False    False   False  ...   False  False     False   \n",
       "4            False      False    False   False  ...   False  False     False   \n",
       "5            False      False    False   False  ...   False  False     False   \n",
       "\n",
       "   Venice  Virginia Beach  Washington  Westerville  Wichita  Woodland Hills  \\\n",
       "1   False           False       False        False    False           False   \n",
       "2   False           False       False        False    False           False   \n",
       "3   False           False       False        False    False           False   \n",
       "4   False           False       False        False    False           False   \n",
       "5   False           False       False        False    False           False   \n",
       "\n",
       "   Yukon  \n",
       "1  False  \n",
       "2  False  \n",
       "3  False  \n",
       "4  False  \n",
       "5  False  \n",
       "\n",
       "[5 rows x 105 columns]"
      ]
     },
     "execution_count": 32,
     "metadata": {},
     "output_type": "execute_result"
    }
   ],
   "source": [
    "df8 = pd.concat([df7,dummies.drop('other',axis='columns')],axis='columns')\n",
    "df8.head()"
   ]
  },
  {
   "cell_type": "code",
   "execution_count": 33,
   "id": "a94d1495-6f07-451e-979b-cc507880fbd9",
   "metadata": {},
   "outputs": [
    {
     "data": {
      "text/html": [
       "<div>\n",
       "<style scoped>\n",
       "    .dataframe tbody tr th:only-of-type {\n",
       "        vertical-align: middle;\n",
       "    }\n",
       "\n",
       "    .dataframe tbody tr th {\n",
       "        vertical-align: top;\n",
       "    }\n",
       "\n",
       "    .dataframe thead th {\n",
       "        text-align: right;\n",
       "    }\n",
       "</style>\n",
       "<table border=\"1\" class=\"dataframe\">\n",
       "  <thead>\n",
       "    <tr style=\"text-align: right;\">\n",
       "      <th></th>\n",
       "      <th>Price</th>\n",
       "      <th>Beds</th>\n",
       "      <th>Baths</th>\n",
       "      <th>Living Space</th>\n",
       "      <th>Albuquerque</th>\n",
       "      <th>Apache Junction</th>\n",
       "      <th>Arlington</th>\n",
       "      <th>Atlanta</th>\n",
       "      <th>Austin</th>\n",
       "      <th>Baltimore</th>\n",
       "      <th>...</th>\n",
       "      <th>Tucson</th>\n",
       "      <th>Tulsa</th>\n",
       "      <th>Van Nuys</th>\n",
       "      <th>Venice</th>\n",
       "      <th>Virginia Beach</th>\n",
       "      <th>Washington</th>\n",
       "      <th>Westerville</th>\n",
       "      <th>Wichita</th>\n",
       "      <th>Woodland Hills</th>\n",
       "      <th>Yukon</th>\n",
       "    </tr>\n",
       "  </thead>\n",
       "  <tbody>\n",
       "    <tr>\n",
       "      <th>1</th>\n",
       "      <td>285000.0</td>\n",
       "      <td>1</td>\n",
       "      <td>2</td>\n",
       "      <td>1118</td>\n",
       "      <td>True</td>\n",
       "      <td>False</td>\n",
       "      <td>False</td>\n",
       "      <td>False</td>\n",
       "      <td>False</td>\n",
       "      <td>False</td>\n",
       "      <td>...</td>\n",
       "      <td>False</td>\n",
       "      <td>False</td>\n",
       "      <td>False</td>\n",
       "      <td>False</td>\n",
       "      <td>False</td>\n",
       "      <td>False</td>\n",
       "      <td>False</td>\n",
       "      <td>False</td>\n",
       "      <td>False</td>\n",
       "      <td>False</td>\n",
       "    </tr>\n",
       "    <tr>\n",
       "      <th>2</th>\n",
       "      <td>479500.0</td>\n",
       "      <td>1</td>\n",
       "      <td>1</td>\n",
       "      <td>2068</td>\n",
       "      <td>True</td>\n",
       "      <td>False</td>\n",
       "      <td>False</td>\n",
       "      <td>False</td>\n",
       "      <td>False</td>\n",
       "      <td>False</td>\n",
       "      <td>...</td>\n",
       "      <td>False</td>\n",
       "      <td>False</td>\n",
       "      <td>False</td>\n",
       "      <td>False</td>\n",
       "      <td>False</td>\n",
       "      <td>False</td>\n",
       "      <td>False</td>\n",
       "      <td>False</td>\n",
       "      <td>False</td>\n",
       "      <td>False</td>\n",
       "    </tr>\n",
       "    <tr>\n",
       "      <th>3</th>\n",
       "      <td>279900.0</td>\n",
       "      <td>2</td>\n",
       "      <td>1</td>\n",
       "      <td>1252</td>\n",
       "      <td>True</td>\n",
       "      <td>False</td>\n",
       "      <td>False</td>\n",
       "      <td>False</td>\n",
       "      <td>False</td>\n",
       "      <td>False</td>\n",
       "      <td>...</td>\n",
       "      <td>False</td>\n",
       "      <td>False</td>\n",
       "      <td>False</td>\n",
       "      <td>False</td>\n",
       "      <td>False</td>\n",
       "      <td>False</td>\n",
       "      <td>False</td>\n",
       "      <td>False</td>\n",
       "      <td>False</td>\n",
       "      <td>False</td>\n",
       "    </tr>\n",
       "    <tr>\n",
       "      <th>4</th>\n",
       "      <td>868939.0</td>\n",
       "      <td>1</td>\n",
       "      <td>1</td>\n",
       "      <td>4622</td>\n",
       "      <td>True</td>\n",
       "      <td>False</td>\n",
       "      <td>False</td>\n",
       "      <td>False</td>\n",
       "      <td>False</td>\n",
       "      <td>False</td>\n",
       "      <td>...</td>\n",
       "      <td>False</td>\n",
       "      <td>False</td>\n",
       "      <td>False</td>\n",
       "      <td>False</td>\n",
       "      <td>False</td>\n",
       "      <td>False</td>\n",
       "      <td>False</td>\n",
       "      <td>False</td>\n",
       "      <td>False</td>\n",
       "      <td>False</td>\n",
       "    </tr>\n",
       "    <tr>\n",
       "      <th>5</th>\n",
       "      <td>559000.0</td>\n",
       "      <td>3</td>\n",
       "      <td>3</td>\n",
       "      <td>2531</td>\n",
       "      <td>True</td>\n",
       "      <td>False</td>\n",
       "      <td>False</td>\n",
       "      <td>False</td>\n",
       "      <td>False</td>\n",
       "      <td>False</td>\n",
       "      <td>...</td>\n",
       "      <td>False</td>\n",
       "      <td>False</td>\n",
       "      <td>False</td>\n",
       "      <td>False</td>\n",
       "      <td>False</td>\n",
       "      <td>False</td>\n",
       "      <td>False</td>\n",
       "      <td>False</td>\n",
       "      <td>False</td>\n",
       "      <td>False</td>\n",
       "    </tr>\n",
       "  </tbody>\n",
       "</table>\n",
       "<p>5 rows × 104 columns</p>\n",
       "</div>"
      ],
      "text/plain": [
       "      Price  Beds  Baths  Living Space  Albuquerque  Apache Junction  \\\n",
       "1  285000.0     1      2          1118         True            False   \n",
       "2  479500.0     1      1          2068         True            False   \n",
       "3  279900.0     2      1          1252         True            False   \n",
       "4  868939.0     1      1          4622         True            False   \n",
       "5  559000.0     3      3          2531         True            False   \n",
       "\n",
       "   Arlington  Atlanta  Austin  Baltimore  ...  Tucson  Tulsa  Van Nuys  \\\n",
       "1      False    False   False      False  ...   False  False     False   \n",
       "2      False    False   False      False  ...   False  False     False   \n",
       "3      False    False   False      False  ...   False  False     False   \n",
       "4      False    False   False      False  ...   False  False     False   \n",
       "5      False    False   False      False  ...   False  False     False   \n",
       "\n",
       "   Venice  Virginia Beach  Washington  Westerville  Wichita  Woodland Hills  \\\n",
       "1   False           False       False        False    False           False   \n",
       "2   False           False       False        False    False           False   \n",
       "3   False           False       False        False    False           False   \n",
       "4   False           False       False        False    False           False   \n",
       "5   False           False       False        False    False           False   \n",
       "\n",
       "   Yukon  \n",
       "1  False  \n",
       "2  False  \n",
       "3  False  \n",
       "4  False  \n",
       "5  False  \n",
       "\n",
       "[5 rows x 104 columns]"
      ]
     },
     "execution_count": 33,
     "metadata": {},
     "output_type": "execute_result"
    }
   ],
   "source": [
    "df9 = df8.drop('City',axis='columns')\n",
    "df9.head()"
   ]
  },
  {
   "cell_type": "code",
   "execution_count": 34,
   "id": "cffec1ea-c90d-4b29-8021-505df9f9deee",
   "metadata": {},
   "outputs": [
    {
     "data": {
      "text/plain": [
       "(15334, 104)"
      ]
     },
     "execution_count": 34,
     "metadata": {},
     "output_type": "execute_result"
    }
   ],
   "source": [
    "df9.shape"
   ]
  },
  {
   "cell_type": "code",
   "execution_count": 35,
   "id": "0b2917bc-7034-4bdc-98a3-f2c828c87477",
   "metadata": {},
   "outputs": [
    {
     "data": {
      "text/plain": [
       "(15334, 103)"
      ]
     },
     "execution_count": 35,
     "metadata": {},
     "output_type": "execute_result"
    }
   ],
   "source": [
    "X = df9.drop('Price',axis=1)\n",
    "X.shape"
   ]
  },
  {
   "cell_type": "code",
   "execution_count": 36,
   "id": "a04297ce-925d-4fc4-816f-d22052990c8f",
   "metadata": {},
   "outputs": [
    {
     "data": {
      "text/plain": [
       "1    285000.0\n",
       "2    479500.0\n",
       "3    279900.0\n",
       "4    868939.0\n",
       "5    559000.0\n",
       "Name: Price, dtype: float64"
      ]
     },
     "execution_count": 36,
     "metadata": {},
     "output_type": "execute_result"
    }
   ],
   "source": [
    "y = df9.Price\n",
    "y.head()"
   ]
  },
  {
   "cell_type": "code",
   "execution_count": 37,
   "id": "4ef42a99-7a83-40d8-9f66-78a560c37f3b",
   "metadata": {
    "scrolled": true
   },
   "outputs": [
    {
     "data": {
      "text/plain": [
       "15334"
      ]
     },
     "execution_count": 37,
     "metadata": {},
     "output_type": "execute_result"
    }
   ],
   "source": [
    "len(y)"
   ]
  },
  {
   "cell_type": "markdown",
   "id": "139998fc-0078-4170-8112-6136fae90734",
   "metadata": {},
   "source": [
    "## Split Data"
   ]
  },
  {
   "cell_type": "code",
   "execution_count": 38,
   "id": "5a1fe516-6c36-4648-b4b2-ad543f9c8f8b",
   "metadata": {},
   "outputs": [
    {
     "data": {
      "text/plain": [
       "12267"
      ]
     },
     "execution_count": 38,
     "metadata": {},
     "output_type": "execute_result"
    }
   ],
   "source": [
    "from sklearn.model_selection import train_test_split\n",
    "X_train,X_test,y_train,y_test = train_test_split(X,y,test_size=0.2,random_state=10)\n",
    "\n",
    "len(X_train)"
   ]
  },
  {
   "cell_type": "code",
   "execution_count": 39,
   "id": "053a5090-473c-49bb-a0cf-51588a9e1f7b",
   "metadata": {
    "scrolled": true
   },
   "outputs": [
    {
     "data": {
      "text/plain": [
       "3067"
      ]
     },
     "execution_count": 39,
     "metadata": {},
     "output_type": "execute_result"
    }
   ],
   "source": [
    "len(X_test)"
   ]
  },
  {
   "cell_type": "markdown",
   "id": "5647c72f-af9c-42b8-9354-ba1fad8aef0d",
   "metadata": {},
   "source": [
    "## Building Model"
   ]
  },
  {
   "cell_type": "code",
   "execution_count": 40,
   "id": "2b72104b-793a-4cee-8727-3922fced9cea",
   "metadata": {},
   "outputs": [
    {
     "data": {
      "text/plain": [
       "0.8036358903236449"
      ]
     },
     "execution_count": 40,
     "metadata": {},
     "output_type": "execute_result"
    }
   ],
   "source": [
    "from sklearn.linear_model import LinearRegression\n",
    "lr_clf = LinearRegression()\n",
    "lr_clf.fit(X_train,y_train)\n",
    "lr_clf.score(X_test,y_test)"
   ]
  },
  {
   "cell_type": "code",
   "execution_count": 41,
   "id": "393d2e3a-c17b-4c52-91ba-21c78aafa08c",
   "metadata": {
    "scrolled": true
   },
   "outputs": [
    {
     "data": {
      "text/plain": [
       "array([0.80522043, 0.80229202, 0.78558701, 0.76904409, 0.7410968 ])"
      ]
     },
     "execution_count": 41,
     "metadata": {},
     "output_type": "execute_result"
    }
   ],
   "source": [
    "from sklearn.model_selection import ShuffleSplit\n",
    "from sklearn.model_selection import cross_val_score\n",
    "\n",
    "cv = ShuffleSplit(n_splits=5, test_size=0.2, random_state=0)\n",
    "\n",
    "cross_val_score(LinearRegression(), X, y, cv=cv)"
   ]
  },
  {
   "cell_type": "markdown",
   "id": "c80b43e3-4968-4941-a1b3-ebcee58f73c6",
   "metadata": {},
   "source": [
    "## Hyperparameter tuning"
   ]
  },
  {
   "cell_type": "code",
   "execution_count": 42,
   "id": "a7a945df-2d54-4096-b703-f08d37c51056",
   "metadata": {
    "scrolled": true
   },
   "outputs": [
    {
     "data": {
      "text/html": [
       "<div>\n",
       "<style scoped>\n",
       "    .dataframe tbody tr th:only-of-type {\n",
       "        vertical-align: middle;\n",
       "    }\n",
       "\n",
       "    .dataframe tbody tr th {\n",
       "        vertical-align: top;\n",
       "    }\n",
       "\n",
       "    .dataframe thead th {\n",
       "        text-align: right;\n",
       "    }\n",
       "</style>\n",
       "<table border=\"1\" class=\"dataframe\">\n",
       "  <thead>\n",
       "    <tr style=\"text-align: right;\">\n",
       "      <th></th>\n",
       "      <th>model</th>\n",
       "      <th>best_score</th>\n",
       "      <th>best_params</th>\n",
       "    </tr>\n",
       "  </thead>\n",
       "  <tbody>\n",
       "    <tr>\n",
       "      <th>0</th>\n",
       "      <td>linear_regression</td>\n",
       "      <td>0.780648</td>\n",
       "      <td>{'positive': False}</td>\n",
       "    </tr>\n",
       "    <tr>\n",
       "      <th>1</th>\n",
       "      <td>lasso</td>\n",
       "      <td>0.780643</td>\n",
       "      <td>{'alpha': 1, 'selection': 'random'}</td>\n",
       "    </tr>\n",
       "    <tr>\n",
       "      <th>2</th>\n",
       "      <td>decision_tree</td>\n",
       "      <td>0.816870</td>\n",
       "      <td>{'criterion': 'friedman_mse', 'splitter': 'ran...</td>\n",
       "    </tr>\n",
       "  </tbody>\n",
       "</table>\n",
       "</div>"
      ],
      "text/plain": [
       "               model  best_score  \\\n",
       "0  linear_regression    0.780648   \n",
       "1              lasso    0.780643   \n",
       "2      decision_tree    0.816870   \n",
       "\n",
       "                                         best_params  \n",
       "0                                {'positive': False}  \n",
       "1                {'alpha': 1, 'selection': 'random'}  \n",
       "2  {'criterion': 'friedman_mse', 'splitter': 'ran...  "
      ]
     },
     "execution_count": 42,
     "metadata": {},
     "output_type": "execute_result"
    }
   ],
   "source": [
    "from sklearn.model_selection import GridSearchCV\n",
    "\n",
    "from sklearn.linear_model import Lasso\n",
    "from sklearn.tree import DecisionTreeRegressor\n",
    "\n",
    "def find_best_model_using_gridsearchcv(X,y):\n",
    "    algos = {\n",
    "        'linear_regression' : {\n",
    "            'model': LinearRegression(),\n",
    "            'params': {\n",
    "                'positive': [True, False]\n",
    "            }\n",
    "        },\n",
    "        'lasso': {\n",
    "            'model': Lasso(),\n",
    "            'params': {\n",
    "                'alpha': [1,2],\n",
    "                'selection': ['random', 'cyclic']\n",
    "            }\n",
    "        },\n",
    "        'decision_tree': {\n",
    "            'model': DecisionTreeRegressor(),\n",
    "            'params': {\n",
    "                'criterion' : ['squared_error','friedman_mse'],\n",
    "                'splitter': ['best','random']\n",
    "            }\n",
    "        }\n",
    "    }\n",
    "    scores = []\n",
    "    cv = ShuffleSplit(n_splits=5, test_size=0.2, random_state=0)\n",
    "    for algo_name, config in algos.items():\n",
    "        gs =  GridSearchCV(config['model'], config['params'], cv=cv, return_train_score=False)\n",
    "        gs.fit(X,y)\n",
    "        scores.append({\n",
    "            'model': algo_name,\n",
    "            'best_score': gs.best_score_,\n",
    "            'best_params': gs.best_params_\n",
    "        })\n",
    "\n",
    "    return pd.DataFrame(scores,columns=['model','best_score','best_params'])\n",
    "    \n",
    "find_best_model_using_gridsearchcv(X,y)"
   ]
  },
  {
   "cell_type": "code",
   "execution_count": 43,
   "id": "8a9fae8f-8202-4a4c-815c-afb39216b869",
   "metadata": {},
   "outputs": [
    {
     "data": {
      "text/plain": [
       "0.8273985045813189"
      ]
     },
     "execution_count": 43,
     "metadata": {},
     "output_type": "execute_result"
    }
   ],
   "source": [
    "tree = DecisionTreeRegressor(criterion='friedman_mse',splitter='best')\n",
    "tree.fit(X_train,y_train)\n",
    "tree.score(X_test,y_test)"
   ]
  },
  {
   "cell_type": "code",
   "execution_count": 44,
   "id": "a84e411b-a6ee-469f-a362-fbb8238812f9",
   "metadata": {},
   "outputs": [],
   "source": [
    "def predict_price(City, sqft, bath, beds):\n",
    "  \n",
    "    if City in X.columns:\n",
    "        loc_index = np.where(X.columns == City)[0][0]\n",
    "    else:\n",
    "        loc_index = -1\n",
    "    x = np.zeros(len(X.columns))\n",
    "\n",
    "    x[0] = beds\n",
    "    x[1] = bath \n",
    "    x[2] = sqft \n",
    "\n",
    "    if loc_index >= 0:\n",
    "        x[loc_index] = 1\n",
    "        \n",
    "    return tree.predict([x])[0]"
   ]
  },
  {
   "cell_type": "code",
   "execution_count": 45,
   "id": "100b514a-8eed-4410-a2f3-a65c6582a90f",
   "metadata": {},
   "outputs": [
    {
     "name": "stderr",
     "output_type": "stream",
     "text": [
      "/home/szymons3234/miniconda3/envs/tf/lib/python3.9/site-packages/sklearn/utils/validation.py:2739: UserWarning: X does not have valid feature names, but DecisionTreeRegressor was fitted with feature names\n",
      "  warnings.warn(\n"
     ]
    },
    {
     "data": {
      "text/plain": [
       "475000.0"
      ]
     },
     "execution_count": 45,
     "metadata": {},
     "output_type": "execute_result"
    }
   ],
   "source": [
    "predict_price('Austin',1000,2,2)"
   ]
  },
  {
   "cell_type": "code",
   "execution_count": 46,
   "id": "40af7b91-8343-4413-82d7-566239df1fea",
   "metadata": {
    "scrolled": true
   },
   "outputs": [
    {
     "name": "stderr",
     "output_type": "stream",
     "text": [
      "/home/szymons3234/miniconda3/envs/tf/lib/python3.9/site-packages/sklearn/utils/validation.py:2739: UserWarning: X does not have valid feature names, but DecisionTreeRegressor was fitted with feature names\n",
      "  warnings.warn(\n"
     ]
    },
    {
     "data": {
      "text/plain": [
       "377225.0"
      ]
     },
     "execution_count": 46,
     "metadata": {},
     "output_type": "execute_result"
    }
   ],
   "source": [
    "predict_price('Omaha',1800,4,2)"
   ]
  },
  {
   "cell_type": "markdown",
   "id": "a43223f9-d376-47bc-995f-485700e6f7a4",
   "metadata": {},
   "source": [
    "## Export the tested model to a pickle file"
   ]
  },
  {
   "cell_type": "code",
   "execution_count": 47,
   "id": "423f1a94-1202-473e-9f52-4adecd2569eb",
   "metadata": {},
   "outputs": [],
   "source": [
    "import pickle\n",
    "with open('American_home_prices_model.pickle','wb') as f:\n",
    "    pickle.dump(tree,f)"
   ]
  },
  {
   "cell_type": "markdown",
   "id": "f691cb4b-bc8f-4fbe-9aa6-883ffdca50aa",
   "metadata": {},
   "source": [
    "## Export location and column information to a file that will be useful later on in our prediction application"
   ]
  },
  {
   "cell_type": "code",
   "execution_count": 48,
   "id": "98397e08-96da-49fa-a353-1bb5615d734f",
   "metadata": {},
   "outputs": [],
   "source": [
    "import json\n",
    "columns = {\n",
    "    'data_columns' : [col.lower() for col in X.columns]\n",
    "}\n",
    "with open(\"columns.json\",\"w\") as f:\n",
    "    f.write(json.dumps(columns))"
   ]
  }
 ],
 "metadata": {
  "kernelspec": {
   "display_name": "Python 3 (ipykernel)",
   "language": "python",
   "name": "python3"
  },
  "language_info": {
   "codemirror_mode": {
    "name": "ipython",
    "version": 3
   },
   "file_extension": ".py",
   "mimetype": "text/x-python",
   "name": "python",
   "nbconvert_exporter": "python",
   "pygments_lexer": "ipython3",
   "version": "3.9.21"
  }
 },
 "nbformat": 4,
 "nbformat_minor": 5
}
